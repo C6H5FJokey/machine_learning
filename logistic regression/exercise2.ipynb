{
 "cells": [
  {
   "cell_type": "markdown",
   "metadata": {},
   "source": [
    "在正式开始之前，先介绍一些我们的新朋友\n",
    "上节课我们使用的线性回归，这是目标函数\n",
    "$$ f_{w,b}(x) = wx + b $$\n",
    "均方误差，其损失函数是这样子的\n",
    "$$ L(w,b) = \\frac{1}{2}(wx + b - {y})^2 $$\n",
    "对应的代价函数是这样的\n",
    "$$ J(w,b) = \\frac{1}{m}\\sum_{i=1}^{m}(wx + b - {y})^2$$\n",
    "对应的梯度下降方程是这样的（求导过程省略了，太简单了）\n",
    "$$ w = w - \\alpha \\frac{\\partial J(\\hat{y})}{\\partial w} $$\n",
    "$$ b = b - \\alpha \\frac{\\partial J(\\hat{y})}{\\partial w} $$\n",
    "其中\n",
    "$$ \\frac{\\partial J(w,b)}{\\partial w} = \\frac{1}{m}\\sum_{i=1}^{m}(wx^{(i)} + b - y)x^{(i)} $$\n",
    "$$ \\frac{\\partial J(w,b)}{\\partial b} = \\frac{1}{m}\\sum_{i=1}^{m}(wx^{(i)} + b - y) $$\n"
   ]
  },
  {
   "cell_type": "markdown",
   "metadata": {},
   "source": [
    "现在轮到逻辑回归了\n",
    "逻辑回归的目标函数是sigmoid函数，是这个\n",
    "$$ g(z) = \\frac{1}{1+e^{-z}} $$\n",
    "$$ z = wx + b $$\n",
    "使用损失函数为交叉熵\n",
    "$$ L(w,b) = - y log(g(wx+b)) - (1-y)log(1-g(wx+b)) $$\n",
    "对应损失函数为\n",
    "$$ J(w,b) = -\\frac{1}{m}\\sum_{i=1}^{m}[y log(g(wx+b)) + (1-y)log(1-g(wx+b))] $$\n",
    "梯度下降方程一样，但求导过程我需要详细写一下\n",
    "$$ \\frac{\\partial g(w,b)}{\\partial w} = \\frac{e^{-(wx+b)}}{(1+e^{-wx+b})^2}x = g^2(wx+b)xe^{-(wx+b)} $$\n",
    "$$\\begin{aligned}\n",
    "\\frac{\\partial J(w,b)}{\\partial w} &= \\frac{\\partial}{\\partial w} (-\\frac{1}{m}\\sum_{i=1}^{m}[y log(g(wx+b)) + (1-y)log(1-g(wx+b))])\\\\\n",
    "&= -\\frac{1}{m}\\sum_{i=1}^{m}[y\\frac{g^2(wx+b)xe^{-(wx+b)}}{g(wx+b)}+(1-y)\\frac{-g^2(wx+b)xe^{-(wx+b)}}{1-g(wx+b)}]\\\\\n",
    "&= -\\frac{1}{m}\\sum_{i=1}^{m}[y\\frac{g(wx+b)(1-g(wx+b))xe^{-(wx+b)}}{1-g(wx+b)}+(1-y)\\frac{-g^2(wx+b)xe^{-(wx+b)}}{1-g(wx+b)}]\\\\\n",
    "&= -\\frac{1}{m}\\sum_{i=1}^{m}[(\\frac{g(wx+b)xe^{-(wx+b)}}{1-g(wx+b)})[y(1-g(wx+b))+(1-y)(-g(wx+b))]]\\\\\n",
    "&= -\\frac{1}{m}\\sum_{i=1}^{m}[(\\frac{\\frac{1}{1+e^{-(wx+b)}}xe^{-(wx+b)}}{1-\\frac{1}{1+e^{-(wx+b)}}})[y-yg(wx+b)-g(wx+b)+yg(wx+b)]]\\\\\n",
    "&= -\\frac{1}{m}\\sum_{i=1}^{m}[(\\frac{\\frac{1}{1+e^{-(wx+b)}}xe^{-(wx+b)}}{\\frac{e^{-(wx+b)}}{1+e^{-(wx+b)}}})[y-g(wx+b)]]\\\\\n",
    "&= \\frac{1}{m}\\sum_{i=1}^{m}[x[g(wx+b)-y]]\\\\\n",
    "&= \\frac{1}{m}\\sum_{i=1}^{m}(g(wx+b)-y)x\n",
    "\\end{aligned}$$\n",
    "同理，对b求偏导可得\n",
    "$$ \\frac{\\partial J(w,b)}{\\partial b} = \\frac{1}{m}\\sum_{i=1}^{m}(g(wx+b)-y) $$"
   ]
  },
  {
   "cell_type": "markdown",
   "metadata": {},
   "source": [
    "让我们进入正题吧\n",
    "\n",
    "这次的任务是根据成绩两次成绩选人\n",
    "\n",
    "数据分为前半部分后后半部分\n",
    "\n",
    "前半部分是两个特征线性关系的逻辑回归\n",
    "\n",
    "后半部分为两个特征非线性关系的逻辑回归，为了防止过拟合需要使用正则化。"
   ]
  },
  {
   "cell_type": "code",
   "execution_count": 1,
   "metadata": {},
   "outputs": [],
   "source": [
    "# 先把库导入\n",
    "import numpy as np\n",
    "import pandas as pd\n",
    "import matplotlib.pyplot as plt"
   ]
  },
  {
   "cell_type": "code",
   "execution_count": 26,
   "metadata": {},
   "outputs": [
    {
     "data": {
      "text/html": [
       "<div>\n",
       "<style scoped>\n",
       "    .dataframe tbody tr th:only-of-type {\n",
       "        vertical-align: middle;\n",
       "    }\n",
       "\n",
       "    .dataframe tbody tr th {\n",
       "        vertical-align: top;\n",
       "    }\n",
       "\n",
       "    .dataframe thead th {\n",
       "        text-align: right;\n",
       "    }\n",
       "</style>\n",
       "<table border=\"1\" class=\"dataframe\">\n",
       "  <thead>\n",
       "    <tr style=\"text-align: right;\">\n",
       "      <th></th>\n",
       "      <th>exam1</th>\n",
       "      <th>exam2</th>\n",
       "      <th>admitted</th>\n",
       "    </tr>\n",
       "  </thead>\n",
       "  <tbody>\n",
       "    <tr>\n",
       "      <th>0</th>\n",
       "      <td>34.623660</td>\n",
       "      <td>78.024693</td>\n",
       "      <td>0</td>\n",
       "    </tr>\n",
       "    <tr>\n",
       "      <th>1</th>\n",
       "      <td>30.286711</td>\n",
       "      <td>43.894998</td>\n",
       "      <td>0</td>\n",
       "    </tr>\n",
       "    <tr>\n",
       "      <th>2</th>\n",
       "      <td>35.847409</td>\n",
       "      <td>72.902198</td>\n",
       "      <td>0</td>\n",
       "    </tr>\n",
       "    <tr>\n",
       "      <th>3</th>\n",
       "      <td>60.182599</td>\n",
       "      <td>86.308552</td>\n",
       "      <td>1</td>\n",
       "    </tr>\n",
       "    <tr>\n",
       "      <th>4</th>\n",
       "      <td>79.032736</td>\n",
       "      <td>75.344376</td>\n",
       "      <td>1</td>\n",
       "    </tr>\n",
       "  </tbody>\n",
       "</table>\n",
       "</div>"
      ],
      "text/plain": [
       "       exam1      exam2  admitted\n",
       "0  34.623660  78.024693         0\n",
       "1  30.286711  43.894998         0\n",
       "2  35.847409  72.902198         0\n",
       "3  60.182599  86.308552         1\n",
       "4  79.032736  75.344376         1"
      ]
     },
     "execution_count": 26,
     "metadata": {},
     "output_type": "execute_result"
    }
   ],
   "source": [
    "# 然后是数据\n",
    "data1 = pd.read_csv('ex2data1.txt', header=None, names=['exam1', 'exam2', 'admitted'])\n",
    "data1.head()"
   ]
  },
  {
   "cell_type": "code",
   "execution_count": 21,
   "metadata": {},
   "outputs": [
    {
     "data": {
      "text/plain": [
       "<matplotlib.collections.PathCollection at 0x217ecc5ea00>"
      ]
     },
     "execution_count": 21,
     "metadata": {},
     "output_type": "execute_result"
    },
    {
     "data": {
      "image/png": "[encoded data removed]",
      "text/plain": [
       "<Figure size 432x288 with 1 Axes>"
      ]
     },
     "metadata": {
      "needs_background": "light"
     },
     "output_type": "display_data"
    }
   ],
   "source": [
    "# 让我看看长什么样.jpg\n",
    "data1_admitted = data1[data1['admitted'] == 1]\n",
    "data1_unadmitted = data1[data1['admitted'] == 0]\n",
    "plt.scatter(data1_admitted['exam1'], data1_admitted['exam2'], color='red', marker='x')\n",
    "plt.scatter(data1_unadmitted['exam1'], data1_unadmitted['exam2'])"
   ]
  },
  {
   "cell_type": "code",
   "execution_count": 16,
   "metadata": {},
   "outputs": [],
   "source": [
    "# sigmoid 启动！\n",
    "def sigmoid(z):\n",
    "    return 1/(1 + np.exp(-z))"
   ]
  },
  {
   "cell_type": "code",
   "execution_count": 24,
   "metadata": {},
   "outputs": [
    {
     "data": {
      "text/plain": [
       "[<matplotlib.lines.Line2D at 0x217ecdcf130>]"
      ]
     },
     "execution_count": 24,
     "metadata": {},
     "output_type": "execute_result"
    },
    {
     "data": {
      "image/png": "[encoded data removed]",
      "text/plain": [
       "<Figure size 432x288 with 1 Axes>"
      ]
     },
     "metadata": {
      "needs_background": "light"
     },
     "output_type": "display_data"
    }
   ],
   "source": [
    "# 快速检查\n",
    "nums = np.arange(-10, 10)\n",
    "plt.plot(nums, sigmoid(nums))"
   ]
  },
  {
   "cell_type": "markdown",
   "metadata": {},
   "source": [
    "$$ J(w,b) = -\\frac{1}{m}\\sum_{i=1}^{m}[y log(g(wx+b)) + (1-y)log(1-g(wx+b))] $$"
   ]
  },
  {
   "cell_type": "code",
   "execution_count": 64,
   "metadata": {},
   "outputs": [],
   "source": [
    "def computeCost(X, y, w, b):\n",
    "    first = np.multiply(y, np.log(sigmoid(X.dot(w) + b)))\n",
    "    second = np.multiply(1 - y, np.log(1 - sigmoid(X.dot(w) + b)))\n",
    "    return -np.mean(first + second)"
   ]
  },
  {
   "cell_type": "markdown",
   "metadata": {},
   "source": [
    "$$ \\frac{\\partial J(w,b)}{\\partial w} = \\frac{1}{m}\\sum_{i=1}^{m}(g(wx+b)-y)x $$"
   ]
  },
  {
   "cell_type": "code",
   "execution_count": 65,
   "metadata": {},
   "outputs": [],
   "source": [
    "def gradientDescent(X, y, w, b, alpha, iters):\n",
    "    cost = np.zeros(iters)\n",
    "    for i in range(iters):\n",
    "        error = sigmoid(X.dot(w) + b) - y\n",
    "        w = w - alpha * np.mean(error[:,np.newaxis] * X, axis=0)\n",
    "        b = b - alpha * np.mean(error)\n",
    "        cost[i] = computeCost(X, y, w, b)\n",
    "        if np.isnan(cost[i]):\n",
    "            break\n",
    "    return w, b, cost\n"
   ]
  },
  {
   "cell_type": "code",
   "execution_count": 89,
   "metadata": {},
   "outputs": [],
   "source": [
    "X = data1.iloc[:, :-1]\n",
    "y = data1.iloc[:, -1]\n",
    "X = np.array(X)\n",
    "y = np.array(y)\n",
    "X_mean = X.mean(axis=0)\n",
    "X_std = X.std(axis=0)\n",
    "X = (X - X.mean())/X.std()"
   ]
  },
  {
   "cell_type": "code",
   "execution_count": 98,
   "metadata": {},
   "outputs": [],
   "source": [
    "w = np.array([0.01, 0.01])\n",
    "b = 0.0"
   ]
  },
  {
   "cell_type": "code",
   "execution_count": 38,
   "metadata": {},
   "outputs": [
    {
     "data": {
      "text/plain": [
       "array([65.64427406, 66.22199809])"
      ]
     },
     "execution_count": 38,
     "metadata": {},
     "output_type": "execute_result"
    }
   ],
   "source": [
    "np.mean(X, axis=0)"
   ]
  },
  {
   "cell_type": "code",
   "execution_count": 97,
   "metadata": {},
   "outputs": [],
   "source": [
    "alpha = 0.01\n",
    "iters = 2000"
   ]
  },
  {
   "cell_type": "code",
   "execution_count": 99,
   "metadata": {},
   "outputs": [],
   "source": [
    "w, b, cost = gradientDescent(X, y, w, b, alpha, iters)"
   ]
  },
  {
   "cell_type": "code",
   "execution_count": 100,
   "metadata": {},
   "outputs": [
    {
     "data": {
      "text/plain": [
       "[<matplotlib.lines.Line2D at 0x217c90b0370>]"
      ]
     },
     "execution_count": 100,
     "metadata": {},
     "output_type": "execute_result"
    },
    {
     "data": {
      "image/png": "[encoded data removed]",
      "text/plain": [
       "<Figure size 432x288 with 1 Axes>"
      ]
     },
     "metadata": {
      "needs_background": "light"
     },
     "output_type": "display_data"
    }
   ],
   "source": [
    "plt.plot(cost)"
   ]
  },
  {
   "cell_type": "code",
   "execution_count": 129,
   "metadata": {},
   "outputs": [
    {
     "data": {
      "text/plain": [
       "<matplotlib.collections.PathCollection at 0x217ed493850>"
      ]
     },
     "execution_count": 129,
     "metadata": {},
     "output_type": "execute_result"
    },
    {
     "data": {
      "image/png": "[encoded data removed]",
      "text/plain": [
       "<Figure size 432x288 with 1 Axes>"
      ]
     },
     "metadata": {
      "needs_background": "light"
     },
     "output_type": "display_data"
    }
   ],
   "source": [
    "plt.scatter(X[data1_admitted.index][:,0], X[data1_admitted.index][:,1],color='red',marker='x')\n",
    "plt.scatter(X[data1_unadmitted.index][:,0], X[data1_unadmitted.index][:,1])"
   ]
  },
  {
   "cell_type": "code",
   "execution_count": 130,
   "metadata": {},
   "outputs": [],
   "source": [
    "# sigmoid反函数\n",
    "def logit(g):\n",
    "    return -np.log(1/g-1)"
   ]
  },
  {
   "cell_type": "code",
   "execution_count": 134,
   "metadata": {},
   "outputs": [
    {
     "data": {
      "text/plain": [
       "[<matplotlib.lines.Line2D at 0x217ed56aa00>]"
      ]
     },
     "execution_count": 134,
     "metadata": {},
     "output_type": "execute_result"
    },
    {
     "data": {
      "image/png": "[encoded data removed]",
      "text/plain": [
       "<Figure size 432x288 with 1 Axes>"
      ]
     },
     "metadata": {
      "needs_background": "light"
     },
     "output_type": "display_data"
    }
   ],
   "source": [
    "# 测试反函数\n",
    "nums = np.arange(0.01, 0.99, step=0.02)\n",
    "plt.plot(nums, logit(nums))"
   ]
  },
  {
   "cell_type": "code",
   "execution_count": 138,
   "metadata": {},
   "outputs": [
    {
     "data": {
      "text/plain": [
       "[<matplotlib.lines.Line2D at 0x217eedb4790>]"
      ]
     },
     "execution_count": 138,
     "metadata": {},
     "output_type": "execute_result"
    },
    {
     "data": {
      "image/png": "[encoded data removed]",
      "text/plain": [
       "<Figure size 432x288 with 1 Axes>"
      ]
     },
     "metadata": {
      "needs_background": "light"
     },
     "output_type": "display_data"
    }
   ],
   "source": [
    "X_min = X.min(axis=0)\n",
    "X_max = X.max(axis=0)\n",
    "X_fit = np.linspace(X_min[0], X_max[0], 200)\n",
    "Y_fit = logit(0.5)-(w[0]*X_fit + b)/w[1]\n",
    "plt.scatter(X[data1_admitted.index][:,0], X[data1_admitted.index][:,1],color='red',marker='x')\n",
    "plt.scatter(X[data1_unadmitted.index][:,0], X[data1_unadmitted.index][:,1])\n",
    "plt.plot(X_fit,Y_fit)"
   ]
  },
  {
   "cell_type": "markdown",
   "metadata": {},
   "source": [
    "状态良好，我们继续实现正则化逻辑回归吧\n",
    "\n",
    "还是先导入数据"
   ]
  },
  {
   "cell_type": "code",
   "execution_count": 161,
   "metadata": {},
   "outputs": [
    {
     "data": {
      "text/html": [
       "<div>\n",
       "<style scoped>\n",
       "    .dataframe tbody tr th:only-of-type {\n",
       "        vertical-align: middle;\n",
       "    }\n",
       "\n",
       "    .dataframe tbody tr th {\n",
       "        vertical-align: top;\n",
       "    }\n",
       "\n",
       "    .dataframe thead th {\n",
       "        text-align: right;\n",
       "    }\n",
       "</style>\n",
       "<table border=\"1\" class=\"dataframe\">\n",
       "  <thead>\n",
       "    <tr style=\"text-align: right;\">\n",
       "      <th></th>\n",
       "      <th>exam1</th>\n",
       "      <th>exam2</th>\n",
       "      <th>admitted</th>\n",
       "    </tr>\n",
       "  </thead>\n",
       "  <tbody>\n",
       "    <tr>\n",
       "      <th>0</th>\n",
       "      <td>0.051267</td>\n",
       "      <td>0.69956</td>\n",
       "      <td>1</td>\n",
       "    </tr>\n",
       "    <tr>\n",
       "      <th>1</th>\n",
       "      <td>-0.092742</td>\n",
       "      <td>0.68494</td>\n",
       "      <td>1</td>\n",
       "    </tr>\n",
       "    <tr>\n",
       "      <th>2</th>\n",
       "      <td>-0.213710</td>\n",
       "      <td>0.69225</td>\n",
       "      <td>1</td>\n",
       "    </tr>\n",
       "    <tr>\n",
       "      <th>3</th>\n",
       "      <td>-0.375000</td>\n",
       "      <td>0.50219</td>\n",
       "      <td>1</td>\n",
       "    </tr>\n",
       "    <tr>\n",
       "      <th>4</th>\n",
       "      <td>-0.513250</td>\n",
       "      <td>0.46564</td>\n",
       "      <td>1</td>\n",
       "    </tr>\n",
       "  </tbody>\n",
       "</table>\n",
       "</div>"
      ],
      "text/plain": [
       "      exam1    exam2  admitted\n",
       "0  0.051267  0.69956         1\n",
       "1 -0.092742  0.68494         1\n",
       "2 -0.213710  0.69225         1\n",
       "3 -0.375000  0.50219         1\n",
       "4 -0.513250  0.46564         1"
      ]
     },
     "execution_count": 161,
     "metadata": {},
     "output_type": "execute_result"
    }
   ],
   "source": [
    "data2 = pd.read_csv('ex2data2.txt', names=['exam1', 'exam2', 'admitted'])\n",
    "data2.head()"
   ]
  },
  {
   "cell_type": "code",
   "execution_count": 142,
   "metadata": {},
   "outputs": [
    {
     "data": {
      "text/html": [
       "<div>\n",
       "<style scoped>\n",
       "    .dataframe tbody tr th:only-of-type {\n",
       "        vertical-align: middle;\n",
       "    }\n",
       "\n",
       "    .dataframe tbody tr th {\n",
       "        vertical-align: top;\n",
       "    }\n",
       "\n",
       "    .dataframe thead th {\n",
       "        text-align: right;\n",
       "    }\n",
       "</style>\n",
       "<table border=\"1\" class=\"dataframe\">\n",
       "  <thead>\n",
       "    <tr style=\"text-align: right;\">\n",
       "      <th></th>\n",
       "      <th>exam1</th>\n",
       "      <th>exam2</th>\n",
       "      <th>admitted</th>\n",
       "    </tr>\n",
       "  </thead>\n",
       "  <tbody>\n",
       "    <tr>\n",
       "      <th>count</th>\n",
       "      <td>118.000000</td>\n",
       "      <td>118.000000</td>\n",
       "      <td>118.000000</td>\n",
       "    </tr>\n",
       "    <tr>\n",
       "      <th>mean</th>\n",
       "      <td>0.054779</td>\n",
       "      <td>0.183102</td>\n",
       "      <td>0.491525</td>\n",
       "    </tr>\n",
       "    <tr>\n",
       "      <th>std</th>\n",
       "      <td>0.496654</td>\n",
       "      <td>0.519743</td>\n",
       "      <td>0.502060</td>\n",
       "    </tr>\n",
       "    <tr>\n",
       "      <th>min</th>\n",
       "      <td>-0.830070</td>\n",
       "      <td>-0.769740</td>\n",
       "      <td>0.000000</td>\n",
       "    </tr>\n",
       "    <tr>\n",
       "      <th>25%</th>\n",
       "      <td>-0.372120</td>\n",
       "      <td>-0.254385</td>\n",
       "      <td>0.000000</td>\n",
       "    </tr>\n",
       "    <tr>\n",
       "      <th>50%</th>\n",
       "      <td>-0.006336</td>\n",
       "      <td>0.213455</td>\n",
       "      <td>0.000000</td>\n",
       "    </tr>\n",
       "    <tr>\n",
       "      <th>75%</th>\n",
       "      <td>0.478970</td>\n",
       "      <td>0.646563</td>\n",
       "      <td>1.000000</td>\n",
       "    </tr>\n",
       "    <tr>\n",
       "      <th>max</th>\n",
       "      <td>1.070900</td>\n",
       "      <td>1.108900</td>\n",
       "      <td>1.000000</td>\n",
       "    </tr>\n",
       "  </tbody>\n",
       "</table>\n",
       "</div>"
      ],
      "text/plain": [
       "            exam1       exam2    admitted\n",
       "count  118.000000  118.000000  118.000000\n",
       "mean     0.054779    0.183102    0.491525\n",
       "std      0.496654    0.519743    0.502060\n",
       "min     -0.830070   -0.769740    0.000000\n",
       "25%     -0.372120   -0.254385    0.000000\n",
       "50%     -0.006336    0.213455    0.000000\n",
       "75%      0.478970    0.646563    1.000000\n",
       "max      1.070900    1.108900    1.000000"
      ]
     },
     "execution_count": 142,
     "metadata": {},
     "output_type": "execute_result"
    }
   ],
   "source": [
    "data2.describe()"
   ]
  },
  {
   "cell_type": "code",
   "execution_count": 159,
   "metadata": {},
   "outputs": [],
   "source": [
    "data2_admitted = data2[data2['admitted']==1]\n",
    "data2_unadmitted = data2[data2['admitted']==0]"
   ]
  },
  {
   "cell_type": "code",
   "execution_count": 161,
   "metadata": {},
   "outputs": [],
   "source": [
    "X = data2.iloc[:,:-1]\n",
    "X_mean = np.array(X.mean())\n",
    "X_std = np.array(X.std())\n",
    "X = np.array((X - X_mean) / X_std)\n",
    "y = data2.iloc[:,-1]\n",
    "y = np.array(y)"
   ]
  },
  {
   "cell_type": "code",
   "execution_count": 167,
   "metadata": {},
   "outputs": [
    {
     "data": {
      "text/plain": [
       "<matplotlib.collections.PathCollection at 0x217f185cfa0>"
      ]
     },
     "execution_count": 167,
     "metadata": {},
     "output_type": "execute_result"
    },
    {
     "data": {
      "image/png": "[encoded data removed]",
      "text/plain": [
       "<Figure size 432x288 with 1 Axes>"
      ]
     },
     "metadata": {
      "needs_background": "light"
     },
     "output_type": "display_data"
    }
   ],
   "source": [
    "# 想图图了\n",
    "plt.scatter(X[data2_admitted.index][:,0], X[data2_admitted.index][:,1], color='red', marker='x')\n",
    "plt.scatter(X[data2_unadmitted.index][:,0], X[data2_unadmitted.index][:,1])"
   ]
  },
  {
   "cell_type": "code",
   "execution_count": 162,
   "metadata": {},
   "outputs": [
    {
     "data": {
      "text/html": [
       "<div>\n",
       "<style scoped>\n",
       "    .dataframe tbody tr th:only-of-type {\n",
       "        vertical-align: middle;\n",
       "    }\n",
       "\n",
       "    .dataframe tbody tr th {\n",
       "        vertical-align: top;\n",
       "    }\n",
       "\n",
       "    .dataframe thead th {\n",
       "        text-align: right;\n",
       "    }\n",
       "</style>\n",
       "<table border=\"1\" class=\"dataframe\">\n",
       "  <thead>\n",
       "    <tr style=\"text-align: right;\">\n",
       "      <th></th>\n",
       "      <th>admitted</th>\n",
       "      <th>Ones</th>\n",
       "      <th>F10</th>\n",
       "      <th>F01</th>\n",
       "      <th>F20</th>\n",
       "      <th>F11</th>\n",
       "      <th>F02</th>\n",
       "      <th>F30</th>\n",
       "      <th>F21</th>\n",
       "      <th>F12</th>\n",
       "      <th>...</th>\n",
       "      <th>F90</th>\n",
       "      <th>F81</th>\n",
       "      <th>F72</th>\n",
       "      <th>F63</th>\n",
       "      <th>F54</th>\n",
       "      <th>F45</th>\n",
       "      <th>F36</th>\n",
       "      <th>F27</th>\n",
       "      <th>F18</th>\n",
       "      <th>F09</th>\n",
       "    </tr>\n",
       "  </thead>\n",
       "  <tbody>\n",
       "    <tr>\n",
       "      <th>0</th>\n",
       "      <td>1</td>\n",
       "      <td>1</td>\n",
       "      <td>0.051267</td>\n",
       "      <td>0.69956</td>\n",
       "      <td>0.002628</td>\n",
       "      <td>0.035864</td>\n",
       "      <td>0.489384</td>\n",
       "      <td>0.000135</td>\n",
       "      <td>0.001839</td>\n",
       "      <td>0.025089</td>\n",
       "      <td>...</td>\n",
       "      <td>2.446477e-12</td>\n",
       "      <td>3.338322e-11</td>\n",
       "      <td>4.555282e-10</td>\n",
       "      <td>6.215876e-09</td>\n",
       "      <td>8.481827e-08</td>\n",
       "      <td>0.000001</td>\n",
       "      <td>0.000016</td>\n",
       "      <td>0.000216</td>\n",
       "      <td>0.002941</td>\n",
       "      <td>0.040126</td>\n",
       "    </tr>\n",
       "    <tr>\n",
       "      <th>1</th>\n",
       "      <td>1</td>\n",
       "      <td>1</td>\n",
       "      <td>-0.092742</td>\n",
       "      <td>0.68494</td>\n",
       "      <td>0.008601</td>\n",
       "      <td>-0.063523</td>\n",
       "      <td>0.469143</td>\n",
       "      <td>-0.000798</td>\n",
       "      <td>0.005891</td>\n",
       "      <td>-0.043509</td>\n",
       "      <td>...</td>\n",
       "      <td>-5.075608e-10</td>\n",
       "      <td>3.748558e-09</td>\n",
       "      <td>-2.768473e-08</td>\n",
       "      <td>2.044638e-07</td>\n",
       "      <td>-1.510054e-06</td>\n",
       "      <td>0.000011</td>\n",
       "      <td>-0.000082</td>\n",
       "      <td>0.000608</td>\n",
       "      <td>-0.004493</td>\n",
       "      <td>0.033180</td>\n",
       "    </tr>\n",
       "    <tr>\n",
       "      <th>2</th>\n",
       "      <td>1</td>\n",
       "      <td>1</td>\n",
       "      <td>-0.213710</td>\n",
       "      <td>0.69225</td>\n",
       "      <td>0.045672</td>\n",
       "      <td>-0.147941</td>\n",
       "      <td>0.479210</td>\n",
       "      <td>-0.009761</td>\n",
       "      <td>0.031616</td>\n",
       "      <td>-0.102412</td>\n",
       "      <td>...</td>\n",
       "      <td>-9.298729e-07</td>\n",
       "      <td>3.012047e-06</td>\n",
       "      <td>-9.756630e-06</td>\n",
       "      <td>3.160370e-05</td>\n",
       "      <td>-1.023708e-04</td>\n",
       "      <td>0.000332</td>\n",
       "      <td>-0.001074</td>\n",
       "      <td>0.003479</td>\n",
       "      <td>-0.011270</td>\n",
       "      <td>0.036506</td>\n",
       "    </tr>\n",
       "    <tr>\n",
       "      <th>3</th>\n",
       "      <td>1</td>\n",
       "      <td>1</td>\n",
       "      <td>-0.375000</td>\n",
       "      <td>0.50219</td>\n",
       "      <td>0.140625</td>\n",
       "      <td>-0.188321</td>\n",
       "      <td>0.252195</td>\n",
       "      <td>-0.052734</td>\n",
       "      <td>0.070620</td>\n",
       "      <td>-0.094573</td>\n",
       "      <td>...</td>\n",
       "      <td>-1.466498e-04</td>\n",
       "      <td>1.963895e-04</td>\n",
       "      <td>-2.629995e-04</td>\n",
       "      <td>3.522020e-04</td>\n",
       "      <td>-4.716595e-04</td>\n",
       "      <td>0.000632</td>\n",
       "      <td>-0.000846</td>\n",
       "      <td>0.001133</td>\n",
       "      <td>-0.001517</td>\n",
       "      <td>0.002031</td>\n",
       "    </tr>\n",
       "    <tr>\n",
       "      <th>4</th>\n",
       "      <td>1</td>\n",
       "      <td>1</td>\n",
       "      <td>-0.513250</td>\n",
       "      <td>0.46564</td>\n",
       "      <td>0.263426</td>\n",
       "      <td>-0.238990</td>\n",
       "      <td>0.216821</td>\n",
       "      <td>-0.135203</td>\n",
       "      <td>0.122661</td>\n",
       "      <td>-0.111283</td>\n",
       "      <td>...</td>\n",
       "      <td>-2.471500e-03</td>\n",
       "      <td>2.242239e-03</td>\n",
       "      <td>-2.034245e-03</td>\n",
       "      <td>1.845545e-03</td>\n",
       "      <td>-1.674349e-03</td>\n",
       "      <td>0.001519</td>\n",
       "      <td>-0.001378</td>\n",
       "      <td>0.001250</td>\n",
       "      <td>-0.001134</td>\n",
       "      <td>0.001029</td>\n",
       "    </tr>\n",
       "  </tbody>\n",
       "</table>\n",
       "<p>5 rows × 56 columns</p>\n",
       "</div>"
      ],
      "text/plain": [
       "   admitted  Ones       F10      F01       F20       F11       F02       F30  \\\n",
       "0         1     1  0.051267  0.69956  0.002628  0.035864  0.489384  0.000135   \n",
       "1         1     1 -0.092742  0.68494  0.008601 -0.063523  0.469143 -0.000798   \n",
       "2         1     1 -0.213710  0.69225  0.045672 -0.147941  0.479210 -0.009761   \n",
       "3         1     1 -0.375000  0.50219  0.140625 -0.188321  0.252195 -0.052734   \n",
       "4         1     1 -0.513250  0.46564  0.263426 -0.238990  0.216821 -0.135203   \n",
       "\n",
       "        F21       F12  ...           F90           F81           F72  \\\n",
       "0  0.001839  0.025089  ...  2.446477e-12  3.338322e-11  4.555282e-10   \n",
       "1  0.005891 -0.043509  ... -5.075608e-10  3.748558e-09 -2.768473e-08   \n",
       "2  0.031616 -0.102412  ... -9.298729e-07  3.012047e-06 -9.756630e-06   \n",
       "3  0.070620 -0.094573  ... -1.466498e-04  1.963895e-04 -2.629995e-04   \n",
       "4  0.122661 -0.111283  ... -2.471500e-03  2.242239e-03 -2.034245e-03   \n",
       "\n",
       "            F63           F54       F45       F36       F27       F18  \\\n",
       "0  6.215876e-09  8.481827e-08  0.000001  0.000016  0.000216  0.002941   \n",
       "1  2.044638e-07 -1.510054e-06  0.000011 -0.000082  0.000608 -0.004493   \n",
       "2  3.160370e-05 -1.023708e-04  0.000332 -0.001074  0.003479 -0.011270   \n",
       "3  3.522020e-04 -4.716595e-04  0.000632 -0.000846  0.001133 -0.001517   \n",
       "4  1.845545e-03 -1.674349e-03  0.001519 -0.001378  0.001250 -0.001134   \n",
       "\n",
       "        F09  \n",
       "0  0.040126  \n",
       "1  0.033180  \n",
       "2  0.036506  \n",
       "3  0.002031  \n",
       "4  0.001029  \n",
       "\n",
       "[5 rows x 56 columns]"
      ]
     },
     "execution_count": 162,
     "metadata": {},
     "output_type": "execute_result"
    }
   ],
   "source": [
    "# 修改数据，变为n次多项式，还是想弄b\n",
    "degree = 9\n",
    "x1 = data2['exam1']\n",
    "x2 = data2['exam2']\n",
    "\n",
    "data2.insert(3, 'Ones', 1)\n",
    "\n",
    "for i in range(1, degree + 1):\n",
    "    for j in range(i + 1):\n",
    "        data2['F%d%d' % (i - j, j)] = np.power(x1, i-j) * np.power(x2, j)\n",
    "\n",
    "data2.drop('exam1', axis=1, inplace=True)\n",
    "data2.drop('exam2', axis=1, inplace=True)\n",
    "\n",
    "data2.head()\n",
    "\n"
   ]
  },
  {
   "cell_type": "code",
   "execution_count": 15,
   "metadata": {},
   "outputs": [
    {
     "data": {
      "text/html": [
       "<div>\n",
       "<style scoped>\n",
       "    .dataframe tbody tr th:only-of-type {\n",
       "        vertical-align: middle;\n",
       "    }\n",
       "\n",
       "    .dataframe tbody tr th {\n",
       "        vertical-align: top;\n",
       "    }\n",
       "\n",
       "    .dataframe thead th {\n",
       "        text-align: right;\n",
       "    }\n",
       "</style>\n",
       "<table border=\"1\" class=\"dataframe\">\n",
       "  <thead>\n",
       "    <tr style=\"text-align: right;\">\n",
       "      <th></th>\n",
       "      <th>admitted</th>\n",
       "      <th>Ones</th>\n",
       "      <th>F10</th>\n",
       "      <th>F01</th>\n",
       "      <th>F20</th>\n",
       "      <th>F11</th>\n",
       "      <th>F02</th>\n",
       "      <th>F30</th>\n",
       "      <th>F21</th>\n",
       "      <th>F12</th>\n",
       "      <th>...</th>\n",
       "      <th>F23</th>\n",
       "      <th>F14</th>\n",
       "      <th>F05</th>\n",
       "      <th>F60</th>\n",
       "      <th>F51</th>\n",
       "      <th>F42</th>\n",
       "      <th>F33</th>\n",
       "      <th>F24</th>\n",
       "      <th>F15</th>\n",
       "      <th>F06</th>\n",
       "    </tr>\n",
       "  </thead>\n",
       "  <tbody>\n",
       "    <tr>\n",
       "      <th>count</th>\n",
       "      <td>118.000000</td>\n",
       "      <td>118.0</td>\n",
       "      <td>118.000000</td>\n",
       "      <td>118.000000</td>\n",
       "      <td>118.000000</td>\n",
       "      <td>118.000000</td>\n",
       "      <td>118.000000</td>\n",
       "      <td>1.180000e+02</td>\n",
       "      <td>118.000000</td>\n",
       "      <td>118.000000</td>\n",
       "      <td>...</td>\n",
       "      <td>118.000000</td>\n",
       "      <td>1.180000e+02</td>\n",
       "      <td>118.000000</td>\n",
       "      <td>1.180000e+02</td>\n",
       "      <td>118.000000</td>\n",
       "      <td>1.180000e+02</td>\n",
       "      <td>118.000000</td>\n",
       "      <td>1.180000e+02</td>\n",
       "      <td>118.000000</td>\n",
       "      <td>1.180000e+02</td>\n",
       "    </tr>\n",
       "    <tr>\n",
       "      <th>mean</th>\n",
       "      <td>0.491525</td>\n",
       "      <td>1.0</td>\n",
       "      <td>0.054779</td>\n",
       "      <td>0.183102</td>\n",
       "      <td>0.247575</td>\n",
       "      <td>-0.025472</td>\n",
       "      <td>0.301370</td>\n",
       "      <td>5.983333e-02</td>\n",
       "      <td>0.030682</td>\n",
       "      <td>0.015483</td>\n",
       "      <td>...</td>\n",
       "      <td>0.018278</td>\n",
       "      <td>4.089084e-03</td>\n",
       "      <td>0.115710</td>\n",
       "      <td>7.837118e-02</td>\n",
       "      <td>-0.000703</td>\n",
       "      <td>1.893340e-02</td>\n",
       "      <td>-0.001705</td>\n",
       "      <td>2.259170e-02</td>\n",
       "      <td>-0.006302</td>\n",
       "      <td>1.257256e-01</td>\n",
       "    </tr>\n",
       "    <tr>\n",
       "      <th>std</th>\n",
       "      <td>0.502060</td>\n",
       "      <td>0.0</td>\n",
       "      <td>0.496654</td>\n",
       "      <td>0.519743</td>\n",
       "      <td>0.248532</td>\n",
       "      <td>0.224075</td>\n",
       "      <td>0.284536</td>\n",
       "      <td>2.746459e-01</td>\n",
       "      <td>0.134706</td>\n",
       "      <td>0.150143</td>\n",
       "      <td>...</td>\n",
       "      <td>0.058513</td>\n",
       "      <td>9.993907e-02</td>\n",
       "      <td>0.299092</td>\n",
       "      <td>1.938621e-01</td>\n",
       "      <td>0.058271</td>\n",
       "      <td>3.430092e-02</td>\n",
       "      <td>0.037443</td>\n",
       "      <td>4.346935e-02</td>\n",
       "      <td>0.090621</td>\n",
       "      <td>2.964416e-01</td>\n",
       "    </tr>\n",
       "    <tr>\n",
       "      <th>min</th>\n",
       "      <td>0.000000</td>\n",
       "      <td>1.0</td>\n",
       "      <td>-0.830070</td>\n",
       "      <td>-0.769740</td>\n",
       "      <td>0.000040</td>\n",
       "      <td>-0.484096</td>\n",
       "      <td>0.000026</td>\n",
       "      <td>-5.719317e-01</td>\n",
       "      <td>-0.358121</td>\n",
       "      <td>-0.483743</td>\n",
       "      <td>...</td>\n",
       "      <td>-0.142660</td>\n",
       "      <td>-4.830370e-01</td>\n",
       "      <td>-0.270222</td>\n",
       "      <td>6.472253e-14</td>\n",
       "      <td>-0.203971</td>\n",
       "      <td>2.577297e-10</td>\n",
       "      <td>-0.113448</td>\n",
       "      <td>2.418097e-10</td>\n",
       "      <td>-0.482684</td>\n",
       "      <td>1.795116e-14</td>\n",
       "    </tr>\n",
       "    <tr>\n",
       "      <th>25%</th>\n",
       "      <td>0.000000</td>\n",
       "      <td>1.0</td>\n",
       "      <td>-0.372120</td>\n",
       "      <td>-0.254385</td>\n",
       "      <td>0.043243</td>\n",
       "      <td>-0.178209</td>\n",
       "      <td>0.061086</td>\n",
       "      <td>-5.155632e-02</td>\n",
       "      <td>-0.023672</td>\n",
       "      <td>-0.042980</td>\n",
       "      <td>...</td>\n",
       "      <td>-0.001400</td>\n",
       "      <td>-7.449462e-03</td>\n",
       "      <td>-0.001072</td>\n",
       "      <td>8.086369e-05</td>\n",
       "      <td>-0.006381</td>\n",
       "      <td>1.258285e-04</td>\n",
       "      <td>-0.005749</td>\n",
       "      <td>3.528590e-04</td>\n",
       "      <td>-0.016662</td>\n",
       "      <td>2.298277e-04</td>\n",
       "    </tr>\n",
       "    <tr>\n",
       "      <th>50%</th>\n",
       "      <td>0.000000</td>\n",
       "      <td>1.0</td>\n",
       "      <td>-0.006336</td>\n",
       "      <td>0.213455</td>\n",
       "      <td>0.165397</td>\n",
       "      <td>-0.016521</td>\n",
       "      <td>0.252195</td>\n",
       "      <td>-2.544062e-07</td>\n",
       "      <td>0.006603</td>\n",
       "      <td>-0.000039</td>\n",
       "      <td>...</td>\n",
       "      <td>0.001026</td>\n",
       "      <td>-8.972096e-09</td>\n",
       "      <td>0.000444</td>\n",
       "      <td>4.527344e-03</td>\n",
       "      <td>-0.000004</td>\n",
       "      <td>3.387050e-03</td>\n",
       "      <td>-0.000005</td>\n",
       "      <td>3.921378e-03</td>\n",
       "      <td>-0.000020</td>\n",
       "      <td>1.604015e-02</td>\n",
       "    </tr>\n",
       "    <tr>\n",
       "      <th>75%</th>\n",
       "      <td>1.000000</td>\n",
       "      <td>1.0</td>\n",
       "      <td>0.478970</td>\n",
       "      <td>0.646563</td>\n",
       "      <td>0.389925</td>\n",
       "      <td>0.100795</td>\n",
       "      <td>0.464189</td>\n",
       "      <td>1.099616e-01</td>\n",
       "      <td>0.086392</td>\n",
       "      <td>0.079510</td>\n",
       "      <td>...</td>\n",
       "      <td>0.021148</td>\n",
       "      <td>2.751341e-02</td>\n",
       "      <td>0.113020</td>\n",
       "      <td>5.932959e-02</td>\n",
       "      <td>0.002104</td>\n",
       "      <td>2.090875e-02</td>\n",
       "      <td>0.001024</td>\n",
       "      <td>2.103622e-02</td>\n",
       "      <td>0.001289</td>\n",
       "      <td>1.001215e-01</td>\n",
       "    </tr>\n",
       "    <tr>\n",
       "      <th>max</th>\n",
       "      <td>1.000000</td>\n",
       "      <td>1.0</td>\n",
       "      <td>1.070900</td>\n",
       "      <td>1.108900</td>\n",
       "      <td>1.146827</td>\n",
       "      <td>0.568307</td>\n",
       "      <td>1.229659</td>\n",
       "      <td>1.228137e+00</td>\n",
       "      <td>0.449251</td>\n",
       "      <td>0.505577</td>\n",
       "      <td>...</td>\n",
       "      <td>0.287323</td>\n",
       "      <td>4.012965e-01</td>\n",
       "      <td>1.676725</td>\n",
       "      <td>1.508320e+00</td>\n",
       "      <td>0.250577</td>\n",
       "      <td>2.018260e-01</td>\n",
       "      <td>0.183548</td>\n",
       "      <td>2.556084e-01</td>\n",
       "      <td>0.436209</td>\n",
       "      <td>1.859321e+00</td>\n",
       "    </tr>\n",
       "  </tbody>\n",
       "</table>\n",
       "<p>8 rows × 29 columns</p>\n",
       "</div>"
      ],
      "text/plain": [
       "         admitted   Ones         F10         F01         F20         F11  \\\n",
       "count  118.000000  118.0  118.000000  118.000000  118.000000  118.000000   \n",
       "mean     0.491525    1.0    0.054779    0.183102    0.247575   -0.025472   \n",
       "std      0.502060    0.0    0.496654    0.519743    0.248532    0.224075   \n",
       "min      0.000000    1.0   -0.830070   -0.769740    0.000040   -0.484096   \n",
       "25%      0.000000    1.0   -0.372120   -0.254385    0.043243   -0.178209   \n",
       "50%      0.000000    1.0   -0.006336    0.213455    0.165397   -0.016521   \n",
       "75%      1.000000    1.0    0.478970    0.646563    0.389925    0.100795   \n",
       "max      1.000000    1.0    1.070900    1.108900    1.146827    0.568307   \n",
       "\n",
       "              F02           F30         F21         F12  ...         F23  \\\n",
       "count  118.000000  1.180000e+02  118.000000  118.000000  ...  118.000000   \n",
       "mean     0.301370  5.983333e-02    0.030682    0.015483  ...    0.018278   \n",
       "std      0.284536  2.746459e-01    0.134706    0.150143  ...    0.058513   \n",
       "min      0.000026 -5.719317e-01   -0.358121   -0.483743  ...   -0.142660   \n",
       "25%      0.061086 -5.155632e-02   -0.023672   -0.042980  ...   -0.001400   \n",
       "50%      0.252195 -2.544062e-07    0.006603   -0.000039  ...    0.001026   \n",
       "75%      0.464189  1.099616e-01    0.086392    0.079510  ...    0.021148   \n",
       "max      1.229659  1.228137e+00    0.449251    0.505577  ...    0.287323   \n",
       "\n",
       "                F14         F05           F60         F51           F42  \\\n",
       "count  1.180000e+02  118.000000  1.180000e+02  118.000000  1.180000e+02   \n",
       "mean   4.089084e-03    0.115710  7.837118e-02   -0.000703  1.893340e-02   \n",
       "std    9.993907e-02    0.299092  1.938621e-01    0.058271  3.430092e-02   \n",
       "min   -4.830370e-01   -0.270222  6.472253e-14   -0.203971  2.577297e-10   \n",
       "25%   -7.449462e-03   -0.001072  8.086369e-05   -0.006381  1.258285e-04   \n",
       "50%   -8.972096e-09    0.000444  4.527344e-03   -0.000004  3.387050e-03   \n",
       "75%    2.751341e-02    0.113020  5.932959e-02    0.002104  2.090875e-02   \n",
       "max    4.012965e-01    1.676725  1.508320e+00    0.250577  2.018260e-01   \n",
       "\n",
       "              F33           F24         F15           F06  \n",
       "count  118.000000  1.180000e+02  118.000000  1.180000e+02  \n",
       "mean    -0.001705  2.259170e-02   -0.006302  1.257256e-01  \n",
       "std      0.037443  4.346935e-02    0.090621  2.964416e-01  \n",
       "min     -0.113448  2.418097e-10   -0.482684  1.795116e-14  \n",
       "25%     -0.005749  3.528590e-04   -0.016662  2.298277e-04  \n",
       "50%     -0.000005  3.921378e-03   -0.000020  1.604015e-02  \n",
       "75%      0.001024  2.103622e-02    0.001289  1.001215e-01  \n",
       "max      0.183548  2.556084e-01    0.436209  1.859321e+00  \n",
       "\n",
       "[8 rows x 29 columns]"
      ]
     },
     "execution_count": 15,
     "metadata": {},
     "output_type": "execute_result"
    }
   ],
   "source": [
    "data2.describe()"
   ]
  },
  {
   "cell_type": "markdown",
   "metadata": {},
   "source": [
    "老规矩，上代价函数，但这次需要加正则化，常数项不计算代价\n",
    "$$ J(w,b) = -\\frac{1}{m}\\sum_{i=1}^{m}[y log(g(wx+b)) + (1-y)log(1-g(wx+b))] + \\frac{\\lambda}{2m}\\sum_{i=1}^{n}w^2 $$"
   ]
  },
  {
   "cell_type": "code",
   "execution_count": 186,
   "metadata": {},
   "outputs": [],
   "source": [
    "def costReg(X, y, w, b, learningRate):\n",
    "    m = len(y)\n",
    "    first = np.multiply(y, np.log(sigmoid(X.dot(w) + b)))\n",
    "    second = np.multiply(1 - y, np.log(1 - sigmoid(X.dot(w) + b)))\n",
    "    reg = learningRate / 2 / m * (np.sum(np.power(w, 2)))\n",
    "    return -np.mean(first + second) + reg"
   ]
  },
  {
   "cell_type": "markdown",
   "metadata": {},
   "source": [
    "$$ \\frac{\\partial J(w,b)}{\\partial w} = \\frac{1}{m}\\sum_{i=1}^{m}(g(wx+b)-y)x + \\frac{\\lambda}{m}w $$\n",
    "$$ \\frac{\\partial J(w,b)}{\\partial b} = \\frac{1}{m}\\sum_{i=1}^{m}(g(wx+b)-y) $$"
   ]
  },
  {
   "cell_type": "code",
   "execution_count": 187,
   "metadata": {},
   "outputs": [],
   "source": [
    "def gradientReg(X, y, w, b, alpha, learningRate, iters):\n",
    "    m = len(y)\n",
    "    cost = np.zeros(iters)\n",
    "    for i in range(iters):\n",
    "        error = sigmoid(X.dot(w) + b) - y\n",
    "        w = w - alpha * (np.sum(error[:,np.newaxis] * X, axis=0) + learningRate * w) / m\n",
    "        b = b - alpha * np.mean(error)\n",
    "        cost[i] = costReg(X, y, w, b, learningRate)\n",
    "        if np.isnan(cost[i]):\n",
    "            break\n",
    "    return w, b, cost"
   ]
  },
  {
   "cell_type": "code",
   "execution_count": 203,
   "metadata": {},
   "outputs": [],
   "source": [
    "# 数据初始化\n",
    "X = np.array(data2.iloc[:, 2:])\n",
    "y = np.array(data2.iloc[:, 0])\n",
    "w = np.zeros(X.shape[1])\n",
    "b = 0.0"
   ]
  },
  {
   "cell_type": "code",
   "execution_count": 209,
   "metadata": {},
   "outputs": [],
   "source": [
    "learningRate = 1.0\n",
    "alpha = 0.03\n",
    "iters = 20000"
   ]
  },
  {
   "cell_type": "code",
   "execution_count": 210,
   "metadata": {},
   "outputs": [
    {
     "data": {
      "text/plain": [
       "0.675901011602137"
      ]
     },
     "execution_count": 210,
     "metadata": {},
     "output_type": "execute_result"
    }
   ],
   "source": [
    "# 测试costReg\n",
    "costReg(X, y, w, b, learningRate)"
   ]
  },
  {
   "cell_type": "code",
   "execution_count": 211,
   "metadata": {},
   "outputs": [],
   "source": [
    "# 开始训练\n",
    "w, b, cost = gradientReg(X, y, w, b, alpha, learningRate, iters)"
   ]
  },
  {
   "cell_type": "code",
   "execution_count": 212,
   "metadata": {},
   "outputs": [
    {
     "data": {
      "text/plain": [
       "[<matplotlib.lines.Line2D at 0x1f5e686e610>]"
      ]
     },
     "execution_count": 212,
     "metadata": {},
     "output_type": "execute_result"
    },
    {
     "data": {
      "image/png": "[encoded data removed]",
      "text/plain": [
       "<Figure size 432x288 with 1 Axes>"
      ]
     },
     "metadata": {
      "needs_background": "light"
     },
     "output_type": "display_data"
    }
   ],
   "source": [
    "plt.plot(cost)"
   ]
  },
  {
   "cell_type": "code",
   "execution_count": 213,
   "metadata": {},
   "outputs": [],
   "source": [
    "x1 = np.linspace(-1, 1, 100)\n",
    "x2 = np.linspace(-1, 1, 100)\n",
    "\n",
    "x1, x2 = np.meshgrid(x1, x2)\n",
    "\n",
    "z = np.zeros([*x1.shape, 0])\n",
    "\n",
    "for i in range(1, degree + 1):\n",
    "    for j in range(i + 1):\n",
    "        z = np.concatenate((z, np.expand_dims(np.power(x1, i - j) * np.power(x2, j), axis=2)), axis=2)\n",
    "\n",
    "z = np.tensordot(z, w, axes=(2, 0))\n",
    "z = sigmoid(z + b)"
   ]
  },
  {
   "cell_type": "code",
   "execution_count": 214,
   "metadata": {},
   "outputs": [
    {
     "data": {
      "text/plain": [
       "<matplotlib.collections.PathCollection at 0x1f5e67ecc70>"
      ]
     },
     "execution_count": 214,
     "metadata": {},
     "output_type": "execute_result"
    },
    {
     "data": {
      "image/png": "[encoded data removed]",
      "text/plain": [
       "<Figure size 432x288 with 1 Axes>"
      ]
     },
     "metadata": {
      "needs_background": "light"
     },
     "output_type": "display_data"
    }
   ],
   "source": [
    "contour = plt.contour(x1, x2, z, levels=[0.5])\n",
    "plt.clabel(contour, inline=True)\n",
    "plt.scatter(X[data2_admitted.index][:,0], X[data2_admitted.index][:,1], color='red', marker='x')\n",
    "plt.scatter(X[data2_unadmitted.index][:,0], X[data2_unadmitted.index][:,1])"
   ]
  },
  {
   "cell_type": "markdown",
   "metadata": {},
   "source": [
    "补充：为什么逻辑回归使用sigmoid函数，sigmoid函数怎么推导\n",
    "\n",
    "首先我们仍然设f(x)=wx+b，我们仍然先将已知的点映射到直线上。\n",
    "\n",
    "此时我们把结果看为概率，即这件事发生的概率。\n",
    "\n",
    "首先有一点我们能肯定，就是f(x)的值越大，这件事发生的概率就越高。\n",
    "\n",
    "但概率一定是[0.0, 1.0]，我们需要一个函数，将f(x)映射到[0.0, 1.0]，且该函数必须满足单调递增。\n",
    "\n",
    "在概率学中，一个事情发生的概率，可以大致转化为当前情况的样本数量除以所有情况的样本数量。\n",
    "\n",
    "在数学中，我们就可以更加简化一点，有n种情况，对应$z_1$到$z_n$，求$z_m$在其中的概率，我们显然有公式。\n",
    "$$ P(z_m) = \\frac{z_m}{\\sum_{i=1}^{n}{z_i}} $$ \n",
    "但z是可能为负数的，所有我们需要将其映射到正数区间，且满足单调递增。显然只有指数函数满足条件，公式变为\n",
    "$$ P(z_m) = \\frac{e^{z_m}}{\\sum_{i=1}^{n}{e^{z_i}}} $$\n",
    "而显然二元分类是特殊情况，结果情况只有两种，我们求一种情况，就相当于求了另一种情况\n",
    "所有函数变为\n",
    "$$ \n",
    "P(z_1) = \\frac{e^{z_1}}{e^{z_0}+e^{z_1}}\n",
    "$$"
   ]
  },
  {
   "cell_type": "markdown",
   "metadata": {},
   "source": [
    "而我们也可以认为，假如情况为非$z_1$，那就是$z_0$，所以$z_0 = -z_1$\n",
    "\n",
    "公式变为\n",
    "$$ P(z_1) = \\frac{e^{z_1}}{e^{-z_1}+e^{z_1}} $$\n",
    "就可以得到概率公式g(z)\n",
    "$$ \\begin{aligned}\n",
    "g(z) &= \\frac{e^{z}}{e^{-z}+e^{z}} \\\\\n",
    "&= \\frac{1}{1+e^{-2z}}\n",
    "\\end{aligned} $$\n",
    "而\n",
    "$$ z= wx+b $$\n",
    "系数被z吸收了，式子就变成了\n",
    "$$ g(z) = \\frac{1}{1+e^{-z}} $$"
   ]
  }
 ],
 "metadata": {
  "kernelspec": {
   "display_name": "base",
   "language": "python",
   "name": "python3"
  },
  "language_info": {
   "codemirror_mode": {
    "name": "ipython",
    "version": 3
   },
   "file_extension": ".py",
   "mimetype": "text/x-python",
   "name": "python",
   "nbconvert_exporter": "python",
   "pygments_lexer": "ipython3",
   "version": "3.9.12"
  }
 },
 "nbformat": 4,
 "nbformat_minor": 2
}
