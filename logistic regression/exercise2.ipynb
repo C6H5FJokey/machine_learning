{
 "cells": [
  {
   "cell_type": "markdown",
   "metadata": {},
   "source": [
    "在正式开始之前，先介绍一些我们的新朋友\n",
    "上节课我们使用的线性回归，这是目标函数\n",
    "$$ f_{w,b}(x) = wx + b $$\n",
    "均方误差，其损失函数是这样子的\n",
    "$$ L(w,b) = \\frac{1}{2}(wx + b - {y})^2 $$\n",
    "对应的代价函数是这样的\n",
    "$$ J(w,b) = \\frac{1}{m}\\sum_{i=1}^{m}(wx + b - {y})^2$$\n",
    "对应的梯度下降方程是这样的（求导过程省略了，太简单了）\n",
    "$$ w = w - \\alpha \\frac{\\partial J(\\hat{y})}{\\partial w} $$\n",
    "$$ b = b - \\alpha \\frac{\\partial J(\\hat{y})}{\\partial w} $$\n",
    "其中\n",
    "$$ \\frac{\\partial J(w,b)}{\\partial w} = \\frac{1}{m}\\sum_{i=1}^{m}(wx^{(i)} + b - y)x^{(i)} $$\n",
    "$$ \\frac{\\partial J(w,b)}{\\partial b} = \\frac{1}{m}\\sum_{i=1}^{m}(wx^{(i)} + b - y) $$\n"
   ]
  },
  {
   "cell_type": "markdown",
   "metadata": {},
   "source": [
    "现在轮到逻辑回归了\n",
    "逻辑回归的目标函数是sigmoid函数，是这个\n",
    "$$ g(z) = \\frac{1}{1+e^{-z}} $$\n",
    "$$ z = wx + b $$\n",
    "使用损失函数为交叉熵\n",
    "$$ L(w,b) = - y log(g(wx+b)) - (1-y)log(1-g(wx+b)) $$\n",
    "对应损失函数为\n",
    "$$ J(w,b) = -\\frac{1}{m}\\sum_{i=1}^{m}[y log(g(wx+b)) + (1-y)log(1-g(wx+b))] $$\n",
    "梯度下降方程一样，但求导过程我需要详细写一下\n",
    "$$ \\frac{\\partial g(w,b)}{\\partial w} = \\frac{e^{-(wx+b)}}{(1+e^{-wx+b})^2}x = g^2(wx+b)xe^{-(wx+b)} $$\n",
    "$$\\begin{aligned}\n",
    "\\frac{\\partial J(w,b)}{\\partial w} &= \\frac{\\partial}{\\partial w} (-\\frac{1}{m}\\sum_{i=1}^{m}[y log(g(wx+b)) + (1-y)log(1-g(wx+b))])\\\\\n",
    "&= -\\frac{1}{m}\\sum_{i=1}^{m}[y\\frac{g^2(wx+b)xe^{-(wx+b)}}{g(wx+b)}+(1-y)\\frac{-g^2(wx+b)xe^{-(wx+b)}}{1-g(wx+b)}]\\\\\n",
    "&= -\\frac{1}{m}\\sum_{i=1}^{m}[y\\frac{g(wx+b)(1-g(wx+b))xe^{-(wx+b)}}{1-g(wx+b)}+(1-y)\\frac{-g^2(wx+b)xe^{-(wx+b)}}{1-g(wx+b)}]\\\\\n",
    "&= -\\frac{1}{m}\\sum_{i=1}^{m}[(\\frac{g(wx+b)xe^{-(wx+b)}}{1-g(wx+b)})[y(1-g(wx+b))+(1-y)(-g(wx+b))]]\\\\\n",
    "&= -\\frac{1}{m}\\sum_{i=1}^{m}[(\\frac{\\frac{1}{1+e^{-(wx+b)}}xe^{-(wx+b)}}{1-\\frac{1}{1+e^{-(wx+b)}}})[y-yg(wx+b)-g(wx+b)+yg(wx+b)]]\\\\\n",
    "&= -\\frac{1}{m}\\sum_{i=1}^{m}[(\\frac{\\frac{1}{1+e^{-(wx+b)}}xe^{-(wx+b)}}{\\frac{e^{-(wx+b)}}{1+e^{-(wx+b)}}})[y-g(wx+b)]]\\\\\n",
    "&= \\frac{1}{m}\\sum_{i=1}^{m}[x[g(wx+b)-y]]\\\\\n",
    "&= \\frac{1}{m}\\sum_{i=1}^{m}(g(wx+b)-y)x\n",
    "\\end{aligned}$$\n",
    "同理，对b求偏导可得\n",
    "$$ \\frac{\\partial J(w,b)}{\\partial b} = \\frac{1}{m}\\sum_{i=1}^{m}(g(wx+b)-y) $$"
   ]
  },
  {
   "cell_type": "markdown",
   "metadata": {},
   "source": [
    "让我们进入正题吧\n",
    "\n",
    "这次的任务是根据成绩两次成绩选人\n",
    "\n",
    "数据分为前半部分后后半部分\n",
    "\n",
    "前半部分是两个特征线性关系的逻辑回归\n",
    "\n",
    "后半部分为两个特征非线性关系的逻辑回归，为了防止过拟合需要使用正则化。"
   ]
  },
  {
   "cell_type": "code",
   "execution_count": 1,
   "metadata": {},
   "outputs": [],
   "source": [
    "# 先把库导入\n",
    "import numpy as np\n",
    "import pandas as pd\n",
    "import matplotlib.pyplot as plt"
   ]
  },
  {
   "cell_type": "code",
   "execution_count": 26,
   "metadata": {},
   "outputs": [
    {
     "data": {
      "text/html": [
       "<div>\n",
       "<style scoped>\n",
       "    .dataframe tbody tr th:only-of-type {\n",
       "        vertical-align: middle;\n",
       "    }\n",
       "\n",
       "    .dataframe tbody tr th {\n",
       "        vertical-align: top;\n",
       "    }\n",
       "\n",
       "    .dataframe thead th {\n",
       "        text-align: right;\n",
       "    }\n",
       "</style>\n",
       "<table border=\"1\" class=\"dataframe\">\n",
       "  <thead>\n",
       "    <tr style=\"text-align: right;\">\n",
       "      <th></th>\n",
       "      <th>exam1</th>\n",
       "      <th>exam2</th>\n",
       "      <th>admitted</th>\n",
       "    </tr>\n",
       "  </thead>\n",
       "  <tbody>\n",
       "    <tr>\n",
       "      <th>0</th>\n",
       "      <td>34.623660</td>\n",
       "      <td>78.024693</td>\n",
       "      <td>0</td>\n",
       "    </tr>\n",
       "    <tr>\n",
       "      <th>1</th>\n",
       "      <td>30.286711</td>\n",
       "      <td>43.894998</td>\n",
       "      <td>0</td>\n",
       "    </tr>\n",
       "    <tr>\n",
       "      <th>2</th>\n",
       "      <td>35.847409</td>\n",
       "      <td>72.902198</td>\n",
       "      <td>0</td>\n",
       "    </tr>\n",
       "    <tr>\n",
       "      <th>3</th>\n",
       "      <td>60.182599</td>\n",
       "      <td>86.308552</td>\n",
       "      <td>1</td>\n",
       "    </tr>\n",
       "    <tr>\n",
       "      <th>4</th>\n",
       "      <td>79.032736</td>\n",
       "      <td>75.344376</td>\n",
       "      <td>1</td>\n",
       "    </tr>\n",
       "  </tbody>\n",
       "</table>\n",
       "</div>"
      ],
      "text/plain": [
       "       exam1      exam2  admitted\n",
       "0  34.623660  78.024693         0\n",
       "1  30.286711  43.894998         0\n",
       "2  35.847409  72.902198         0\n",
       "3  60.182599  86.308552         1\n",
       "4  79.032736  75.344376         1"
      ]
     },
     "execution_count": 26,
     "metadata": {},
     "output_type": "execute_result"
    }
   ],
   "source": [
    "# 然后是数据\n",
    "data1 = pd.read_csv('ex2data1.txt', header=None, names=['exam1', 'exam2', 'admitted'])\n",
    "data1.head()"
   ]
  },
  {
   "cell_type": "code",
   "execution_count": 21,
   "metadata": {},
   "outputs": [
    {
     "data": {
      "text/plain": [
       "<matplotlib.collections.PathCollection at 0x217ecc5ea00>"
      ]
     },
     "execution_count": 21,
     "metadata": {},
     "output_type": "execute_result"
    },
    {
     "data": {
      "image/png": "[encoded data removed]",
      "text/plain": [
       "<Figure size 432x288 with 1 Axes>"
      ]
     },
     "metadata": {
      "needs_background": "light"
     },
     "output_type": "display_data"
    }
   ],
   "source": [
    "# 让我看看长什么样.jpg\n",
    "data1_admitted = data1[data1['admitted'] == 1]\n",
    "data1_unadmitted = data1[data1['admitted'] == 0]\n",
    "plt.scatter(data1_admitted['exam1'], data1_admitted['exam2'], color='red', marker='x')\n",
    "plt.scatter(data1_unadmitted['exam1'], data1_unadmitted['exam2'])"
   ]
  },
  {
   "cell_type": "code",
   "execution_count": 22,
   "metadata": {},
   "outputs": [],
   "source": [
    "# sigmoid 启动！\n",
    "def sigmoid(z):\n",
    "    return 1/(1 + np.exp(-z))"
   ]
  },
  {
   "cell_type": "code",
   "execution_count": 24,
   "metadata": {},
   "outputs": [
    {
     "data": {
      "text/plain": [
       "[<matplotlib.lines.Line2D at 0x217ecdcf130>]"
      ]
     },
     "execution_count": 24,
     "metadata": {},
     "output_type": "execute_result"
    },
    {
     "data": {
      "image/png": "[encoded data removed]",
      "text/plain": [
       "<Figure size 432x288 with 1 Axes>"
      ]
     },
     "metadata": {
      "needs_background": "light"
     },
     "output_type": "display_data"
    }
   ],
   "source": [
    "# 快速检查\n",
    "nums = np.arange(-10, 10)\n",
    "plt.plot(nums, sigmoid(nums))"
   ]
  },
  {
   "cell_type": "markdown",
   "metadata": {},
   "source": [
    "$$ J(w,b) = -\\frac{1}{m}\\sum_{i=1}^{m}[y log(g(wx+b)) + (1-y)log(1-g(wx+b))] $$"
   ]
  },
  {
   "cell_type": "code",
   "execution_count": 64,
   "metadata": {},
   "outputs": [],
   "source": [
    "def computeCost(X, y, w, b):\n",
    "    first = np.multiply(y, np.log(sigmoid(X.dot(w) + b)))\n",
    "    second = np.multiply(1 - y, np.log(1 - sigmoid(X.dot(w) + b)))\n",
    "    return -np.mean(first + second)"
   ]
  },
  {
   "cell_type": "markdown",
   "metadata": {},
   "source": [
    "$$ \\frac{\\partial J(w,b)}{\\partial w} = \\frac{1}{m}\\sum_{i=1}^{m}(g(wx+b)-y)x $$"
   ]
  },
  {
   "cell_type": "code",
   "execution_count": 65,
   "metadata": {},
   "outputs": [],
   "source": [
    "def gradientDescent(X, y, w, b, alpha, iters):\n",
    "    cost = np.zeros(iters)\n",
    "    for i in range(iters):\n",
    "        error = sigmoid(X.dot(w) + b) - y\n",
    "        w = w - alpha * np.mean(error[:,np.newaxis] * X, axis=0)\n",
    "        b = b - alpha * np.mean(error)\n",
    "        cost[i] = computeCost(X, y, w, b)\n",
    "        if np.isnan(cost[i]):\n",
    "            break\n",
    "    return w, b, cost\n"
   ]
  },
  {
   "cell_type": "code",
   "execution_count": 89,
   "metadata": {},
   "outputs": [],
   "source": [
    "X = data1.iloc[:, :-1]\n",
    "y = data1.iloc[:, -1]\n",
    "X = np.array(X)\n",
    "y = np.array(y)\n",
    "X_mean = X.mean(axis=0)\n",
    "X_std = X.std(axis=0)\n",
    "X = (X - X.mean())/X.std()"
   ]
  },
  {
   "cell_type": "code",
   "execution_count": 98,
   "metadata": {},
   "outputs": [],
   "source": [
    "w = np.array([0.01, 0.01])\n",
    "b = 0.0"
   ]
  },
  {
   "cell_type": "code",
   "execution_count": 38,
   "metadata": {},
   "outputs": [
    {
     "data": {
      "text/plain": [
       "array([65.64427406, 66.22199809])"
      ]
     },
     "execution_count": 38,
     "metadata": {},
     "output_type": "execute_result"
    }
   ],
   "source": [
    "np.mean(X, axis=0)"
   ]
  },
  {
   "cell_type": "code",
   "execution_count": 97,
   "metadata": {},
   "outputs": [],
   "source": [
    "alpha = 0.01\n",
    "iters = 2000"
   ]
  },
  {
   "cell_type": "code",
   "execution_count": 99,
   "metadata": {},
   "outputs": [],
   "source": [
    "w, b, cost = gradientDescent(X, y, w, b, alpha, iters)"
   ]
  },
  {
   "cell_type": "code",
   "execution_count": 100,
   "metadata": {},
   "outputs": [
    {
     "data": {
      "text/plain": [
       "[<matplotlib.lines.Line2D at 0x217c90b0370>]"
      ]
     },
     "execution_count": 100,
     "metadata": {},
     "output_type": "execute_result"
    },
    {
     "data": {
      "image/png": "[encoded data removed]",
      "text/plain": [
       "<Figure size 432x288 with 1 Axes>"
      ]
     },
     "metadata": {
      "needs_background": "light"
     },
     "output_type": "display_data"
    }
   ],
   "source": [
    "plt.plot(cost)"
   ]
  },
  {
   "cell_type": "code",
   "execution_count": 129,
   "metadata": {},
   "outputs": [
    {
     "data": {
      "text/plain": [
       "<matplotlib.collections.PathCollection at 0x217ed493850>"
      ]
     },
     "execution_count": 129,
     "metadata": {},
     "output_type": "execute_result"
    },
    {
     "data": {
      "image/png": "[encoded data removed]",
      "text/plain": [
       "<Figure size 432x288 with 1 Axes>"
      ]
     },
     "metadata": {
      "needs_background": "light"
     },
     "output_type": "display_data"
    }
   ],
   "source": [
    "plt.scatter(X[data1_admitted.index][:,0], X[data1_admitted.index][:,1],color='red',marker='x')\n",
    "plt.scatter(X[data1_unadmitted.index][:,0], X[data1_unadmitted.index][:,1])"
   ]
  },
  {
   "cell_type": "code",
   "execution_count": 130,
   "metadata": {},
   "outputs": [],
   "source": [
    "# sigmoid反函数\n",
    "def logit(g):\n",
    "    return -np.log(1/g-1)"
   ]
  },
  {
   "cell_type": "code",
   "execution_count": 134,
   "metadata": {},
   "outputs": [
    {
     "data": {
      "text/plain": [
       "[<matplotlib.lines.Line2D at 0x217ed56aa00>]"
      ]
     },
     "execution_count": 134,
     "metadata": {},
     "output_type": "execute_result"
    },
    {
     "data": {
      "image/png": "[encoded data removed]",
      "text/plain": [
       "<Figure size 432x288 with 1 Axes>"
      ]
     },
     "metadata": {
      "needs_background": "light"
     },
     "output_type": "display_data"
    }
   ],
   "source": [
    "# 测试反函数\n",
    "nums = np.arange(0.01, 0.99, step=0.02)\n",
    "plt.plot(nums, logit(nums))"
   ]
  },
  {
   "cell_type": "code",
   "execution_count": 138,
   "metadata": {},
   "outputs": [
    {
     "data": {
      "text/plain": [
       "[<matplotlib.lines.Line2D at 0x217eedb4790>]"
      ]
     },
     "execution_count": 138,
     "metadata": {},
     "output_type": "execute_result"
    },
    {
     "data": {
      "image/png": "[encoded data removed]",
      "text/plain": [
       "<Figure size 432x288 with 1 Axes>"
      ]
     },
     "metadata": {
      "needs_background": "light"
     },
     "output_type": "display_data"
    }
   ],
   "source": [
    "X_min = X.min(axis=0)\n",
    "X_max = X.max(axis=0)\n",
    "X_fit = np.linspace(X_min[0], X_max[0], 200)\n",
    "Y_fit = logit(0.5)-(w[0]*X_fit + b)/w[1]\n",
    "plt.scatter(X[data1_admitted.index][:,0], X[data1_admitted.index][:,1],color='red',marker='x')\n",
    "plt.scatter(X[data1_unadmitted.index][:,0], X[data1_unadmitted.index][:,1])\n",
    "plt.plot(X_fit,Y_fit)"
   ]
  },
  {
   "cell_type": "markdown",
   "metadata": {},
   "source": [
    "状态良好，我们继续实现正则化逻辑回归吧\n",
    "\n",
    "还是先导入数据"
   ]
  },
  {
   "cell_type": "code",
   "execution_count": 141,
   "metadata": {},
   "outputs": [
    {
     "data": {
      "text/html": [
       "<div>\n",
       "<style scoped>\n",
       "    .dataframe tbody tr th:only-of-type {\n",
       "        vertical-align: middle;\n",
       "    }\n",
       "\n",
       "    .dataframe tbody tr th {\n",
       "        vertical-align: top;\n",
       "    }\n",
       "\n",
       "    .dataframe thead th {\n",
       "        text-align: right;\n",
       "    }\n",
       "</style>\n",
       "<table border=\"1\" class=\"dataframe\">\n",
       "  <thead>\n",
       "    <tr style=\"text-align: right;\">\n",
       "      <th></th>\n",
       "      <th>exam1</th>\n",
       "      <th>exam2</th>\n",
       "      <th>admitted</th>\n",
       "    </tr>\n",
       "  </thead>\n",
       "  <tbody>\n",
       "    <tr>\n",
       "      <th>0</th>\n",
       "      <td>0.051267</td>\n",
       "      <td>0.69956</td>\n",
       "      <td>1</td>\n",
       "    </tr>\n",
       "    <tr>\n",
       "      <th>1</th>\n",
       "      <td>-0.092742</td>\n",
       "      <td>0.68494</td>\n",
       "      <td>1</td>\n",
       "    </tr>\n",
       "    <tr>\n",
       "      <th>2</th>\n",
       "      <td>-0.213710</td>\n",
       "      <td>0.69225</td>\n",
       "      <td>1</td>\n",
       "    </tr>\n",
       "    <tr>\n",
       "      <th>3</th>\n",
       "      <td>-0.375000</td>\n",
       "      <td>0.50219</td>\n",
       "      <td>1</td>\n",
       "    </tr>\n",
       "    <tr>\n",
       "      <th>4</th>\n",
       "      <td>-0.513250</td>\n",
       "      <td>0.46564</td>\n",
       "      <td>1</td>\n",
       "    </tr>\n",
       "  </tbody>\n",
       "</table>\n",
       "</div>"
      ],
      "text/plain": [
       "      exam1    exam2  admitted\n",
       "0  0.051267  0.69956         1\n",
       "1 -0.092742  0.68494         1\n",
       "2 -0.213710  0.69225         1\n",
       "3 -0.375000  0.50219         1\n",
       "4 -0.513250  0.46564         1"
      ]
     },
     "execution_count": 141,
     "metadata": {},
     "output_type": "execute_result"
    }
   ],
   "source": [
    "data2 = pd.read_csv('ex2data2.txt', names=['exam1', 'exam2', 'admitted'])\n",
    "data2.head()"
   ]
  },
  {
   "cell_type": "code",
   "execution_count": 142,
   "metadata": {},
   "outputs": [
    {
     "data": {
      "text/html": [
       "<div>\n",
       "<style scoped>\n",
       "    .dataframe tbody tr th:only-of-type {\n",
       "        vertical-align: middle;\n",
       "    }\n",
       "\n",
       "    .dataframe tbody tr th {\n",
       "        vertical-align: top;\n",
       "    }\n",
       "\n",
       "    .dataframe thead th {\n",
       "        text-align: right;\n",
       "    }\n",
       "</style>\n",
       "<table border=\"1\" class=\"dataframe\">\n",
       "  <thead>\n",
       "    <tr style=\"text-align: right;\">\n",
       "      <th></th>\n",
       "      <th>exam1</th>\n",
       "      <th>exam2</th>\n",
       "      <th>admitted</th>\n",
       "    </tr>\n",
       "  </thead>\n",
       "  <tbody>\n",
       "    <tr>\n",
       "      <th>count</th>\n",
       "      <td>118.000000</td>\n",
       "      <td>118.000000</td>\n",
       "      <td>118.000000</td>\n",
       "    </tr>\n",
       "    <tr>\n",
       "      <th>mean</th>\n",
       "      <td>0.054779</td>\n",
       "      <td>0.183102</td>\n",
       "      <td>0.491525</td>\n",
       "    </tr>\n",
       "    <tr>\n",
       "      <th>std</th>\n",
       "      <td>0.496654</td>\n",
       "      <td>0.519743</td>\n",
       "      <td>0.502060</td>\n",
       "    </tr>\n",
       "    <tr>\n",
       "      <th>min</th>\n",
       "      <td>-0.830070</td>\n",
       "      <td>-0.769740</td>\n",
       "      <td>0.000000</td>\n",
       "    </tr>\n",
       "    <tr>\n",
       "      <th>25%</th>\n",
       "      <td>-0.372120</td>\n",
       "      <td>-0.254385</td>\n",
       "      <td>0.000000</td>\n",
       "    </tr>\n",
       "    <tr>\n",
       "      <th>50%</th>\n",
       "      <td>-0.006336</td>\n",
       "      <td>0.213455</td>\n",
       "      <td>0.000000</td>\n",
       "    </tr>\n",
       "    <tr>\n",
       "      <th>75%</th>\n",
       "      <td>0.478970</td>\n",
       "      <td>0.646563</td>\n",
       "      <td>1.000000</td>\n",
       "    </tr>\n",
       "    <tr>\n",
       "      <th>max</th>\n",
       "      <td>1.070900</td>\n",
       "      <td>1.108900</td>\n",
       "      <td>1.000000</td>\n",
       "    </tr>\n",
       "  </tbody>\n",
       "</table>\n",
       "</div>"
      ],
      "text/plain": [
       "            exam1       exam2    admitted\n",
       "count  118.000000  118.000000  118.000000\n",
       "mean     0.054779    0.183102    0.491525\n",
       "std      0.496654    0.519743    0.502060\n",
       "min     -0.830070   -0.769740    0.000000\n",
       "25%     -0.372120   -0.254385    0.000000\n",
       "50%     -0.006336    0.213455    0.000000\n",
       "75%      0.478970    0.646563    1.000000\n",
       "max      1.070900    1.108900    1.000000"
      ]
     },
     "execution_count": 142,
     "metadata": {},
     "output_type": "execute_result"
    }
   ],
   "source": [
    "data2.describe()"
   ]
  },
  {
   "cell_type": "code",
   "execution_count": 164,
   "metadata": {},
   "outputs": [],
   "source": [
    "data2_admitted = data2[data2['admitted']==1]\n",
    "data2_unadmitted = data2[data2['admitted']==0]"
   ]
  },
  {
   "cell_type": "code",
   "execution_count": 161,
   "metadata": {},
   "outputs": [],
   "source": [
    "X = data2.iloc[:,:-1]\n",
    "X_mean = np.array(X.mean())\n",
    "X_std = np.array(X.std())\n",
    "X = np.array((X - X_mean) / X_std)\n",
    "y = data2.iloc[:,-1]\n",
    "y = np.array(y)"
   ]
  },
  {
   "cell_type": "code",
   "execution_count": 167,
   "metadata": {},
   "outputs": [
    {
     "data": {
      "text/plain": [
       "<matplotlib.collections.PathCollection at 0x217f185cfa0>"
      ]
     },
     "execution_count": 167,
     "metadata": {},
     "output_type": "execute_result"
    },
    {
     "data": {
      "image/png": "[encoded data removed]",
      "text/plain": [
       "<Figure size 432x288 with 1 Axes>"
      ]
     },
     "metadata": {
      "needs_background": "light"
     },
     "output_type": "display_data"
    }
   ],
   "source": [
    "# 想图图了\n",
    "plt.scatter(X[data2_admitted.index][:,0], X[data2_admitted.index][:,1], color='red', marker='x')\n",
    "plt.scatter(X[data2_unadmitted.index][:,0], X[data2_unadmitted.index][:,1])"
   ]
  }
 ],
 "metadata": {
  "kernelspec": {
   "display_name": "base",
   "language": "python",
   "name": "python3"
  },
  "language_info": {
   "codemirror_mode": {
    "name": "ipython",
    "version": 3
   },
   "file_extension": ".py",
   "mimetype": "text/x-python",
   "name": "python",
   "nbconvert_exporter": "python",
   "pygments_lexer": "ipython3",
   "version": "3.9.12"
  }
 },
 "nbformat": 4,
 "nbformat_minor": 2
}
